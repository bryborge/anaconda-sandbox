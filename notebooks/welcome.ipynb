{
 "cells": [
  {
   "cell_type": "markdown",
   "id": "99b3e9b1-9a76-4e54-a102-687af57f7578",
   "metadata": {
    "panel-layout": {
     "height": 93.578125,
     "visible": true,
     "width": 100
    }
   },
   "source": [
    "# Welcome!\n",
    "\n",
    "This is a sample notebook."
   ]
  },
  {
   "cell_type": "code",
   "execution_count": 1,
   "id": "eea8e3de-fbde-4593-ad0b-60283f772623",
   "metadata": {
    "panel-layout": {
     "height": 0,
     "visible": true,
     "width": 100
    }
   },
   "outputs": [
    {
     "name": "stdout",
     "output_type": "stream",
     "text": [
      "Hello World!\n"
     ]
    }
   ],
   "source": [
    "print(\"Hello World!\")"
   ]
  }
 ],
 "metadata": {
  "kernelspec": {
   "display_name": "Python 3 (ipykernel)",
   "language": "python",
   "name": "python3"
  },
  "language_info": {
   "codemirror_mode": {
    "name": "ipython",
    "version": 3
   },
   "file_extension": ".py",
   "mimetype": "text/x-python",
   "name": "python",
   "nbconvert_exporter": "python",
   "pygments_lexer": "ipython3",
   "version": "3.12.7"
  },
  "panel-cell-order": [
   "99b3e9b1-9a76-4e54-a102-687af57f7578",
   "eea8e3de-fbde-4593-ad0b-60283f772623"
  ]
 },
 "nbformat": 4,
 "nbformat_minor": 5
}
